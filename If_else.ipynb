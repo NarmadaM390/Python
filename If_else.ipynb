{
 "cells": [
  {
   "cell_type": "markdown",
   "metadata": {},
   "source": [
    "# Statements"
   ]
  },
  {
   "cell_type": "code",
   "execution_count": 4,
   "metadata": {},
   "outputs": [
    {
     "name": "stdout",
     "output_type": "stream",
     "text": [
      "enter a number: 5\n",
      "given num is odd\n"
     ]
    }
   ],
   "source": [
    "#even or odd\n",
    "num = int(input(\"enter a number: \"))\n",
    "\n",
    "if num%2==0:\n",
    "    print(\"given num is even\")\n",
    "else:\n",
    "    print(\"given num is odd\")"
   ]
  },
  {
   "cell_type": "code",
   "execution_count": null,
   "metadata": {},
   "outputs": [],
   "source": [
    "4//2"
   ]
  },
  {
   "cell_type": "code",
   "execution_count": null,
   "metadata": {},
   "outputs": [],
   "source": [
    "#a = [1,2,3,4,5]\n"
   ]
  },
  {
   "cell_type": "code",
   "execution_count": 14,
   "metadata": {},
   "outputs": [
    {
     "name": "stdout",
     "output_type": "stream",
     "text": [
      "Give item name: salt\n",
      "salt is in food items\n"
     ]
    }
   ],
   "source": [
    "Electric_item = [\"switch\",\"fan\",\"TV\"]\n",
    "food_item = [\"sugar\",\"salt\",\"water\"]\n",
    "\n",
    "item = input(\"Give item name: \")\n",
    "                 \n",
    "if item in Electric_item:\n",
    "    print(\" Given item is an Electric_item\")\n",
    "elif item in food_item:\n",
    "    print(\"{} is in food items\".format(item))\n",
    "else:\n",
    "    print(\"I am sorry, I don't know the item name pls**\")"
   ]
  },
  {
   "cell_type": "code",
   "execution_count": 8,
   "metadata": {},
   "outputs": [
    {
     "name": "stdout",
     "output_type": "stream",
     "text": [
      "Enter the city name: hyderabad\n",
      "hyderabad is my fav city\n"
     ]
    }
   ],
   "source": [
    "cities = [\"hyderabad\",\"banglore\",\"trivendram\",\"chennai\"]\n",
    "city  = input(\"Enter the city name: \")\n",
    "if city==\"hyderabad\":\n",
    "        print(\"{} is my fav city\".format(city))\n",
    "elif city==\"banglore\":\n",
    "        print(\"{} is not my fav city\".format(city))\n",
    "elif city not in cities:\n",
    "        print(\"please choose the right choice\")"
   ]
  },
  {
   "cell_type": "code",
   "execution_count": 9,
   "metadata": {},
   "outputs": [],
   "source": [
    "numbers = [1,2,3,4,5,6,7,8]\n",
    "odd_numbers = []\n",
    "even_numbers = []\n",
    "\n",
    "for i in numbers:\n",
    "    if i%2==0:\n",
    "        even_numbers.append(i)\n",
    "    elif i%2!=0:\n",
    "        odd_numbers.append(i)"
   ]
  },
  {
   "cell_type": "code",
   "execution_count": 10,
   "metadata": {},
   "outputs": [
    {
     "name": "stdout",
     "output_type": "stream",
     "text": [
      "[1, 3, 5, 7]\n"
     ]
    }
   ],
   "source": [
    "print(odd_numbers)"
   ]
  },
  {
   "cell_type": "code",
   "execution_count": 18,
   "metadata": {},
   "outputs": [
    {
     "data": {
      "text/plain": [
       "[2, 4, 6, 8]"
      ]
     },
     "execution_count": 18,
     "metadata": {},
     "output_type": "execute_result"
    }
   ],
   "source": [
    "even_numbers"
   ]
  },
  {
   "cell_type": "code",
   "execution_count": 13,
   "metadata": {},
   "outputs": [
    {
     "name": "stdout",
     "output_type": "stream",
     "text": [
      "Enter your number: 5\n",
      "Given number is odd number\n"
     ]
    }
   ],
   "source": [
    "x = input(\"Enter your number: \")\n",
    "x = int(x)\n",
    "if x%2==0:\n",
    "    print(\"Given number is even number\")\n",
    "else:\n",
    "    print(\"Given number is odd number\")"
   ]
  },
  {
   "cell_type": "markdown",
   "metadata": {},
   "source": [
    "# kavya"
   ]
  },
  {
   "cell_type": "code",
   "execution_count": null,
   "metadata": {},
   "outputs": [],
   "source": []
  }
 ],
 "metadata": {
  "kernelspec": {
   "display_name": "Python 3",
   "language": "python",
   "name": "python3"
  },
  "language_info": {
   "codemirror_mode": {
    "name": "ipython",
    "version": 3
   },
   "file_extension": ".py",
   "mimetype": "text/x-python",
   "name": "python",
   "nbconvert_exporter": "python",
   "pygments_lexer": "ipython3",
   "version": "3.8.5"
  }
 },
 "nbformat": 4,
 "nbformat_minor": 4
}
